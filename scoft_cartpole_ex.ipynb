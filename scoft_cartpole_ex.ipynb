{
 "cells": [
  {
   "cell_type": "code",
   "execution_count": 1,
   "id": "28ec8959",
   "metadata": {},
   "outputs": [
    {
     "name": "stdout",
     "output_type": "stream",
     "text": [
      "Collecting numpy==1.23\n",
      "  Obtaining dependency information for numpy==1.23 from https://files.pythonhosted.org/packages/7a/88/8404fbe4f6472e4e54106a8faacae1279a244422bc88f5ee3e33ba2dd72b/numpy-1.23.0-cp310-cp310-manylinux_2_17_x86_64.manylinux2014_x86_64.whl.metadata\n",
      "  Downloading numpy-1.23.0-cp310-cp310-manylinux_2_17_x86_64.manylinux2014_x86_64.whl.metadata (2.2 kB)\n",
      "Downloading numpy-1.23.0-cp310-cp310-manylinux_2_17_x86_64.manylinux2014_x86_64.whl (17.0 MB)\n",
      "\u001b[2K   \u001b[90m━━━━━━━━━━━━━━━━━━━━━━━━━━━━━━━━━━━━━━━━\u001b[0m \u001b[32m17.0/17.0 MB\u001b[0m \u001b[31m57.9 MB/s\u001b[0m eta \u001b[36m0:00:00\u001b[0m00:01\u001b[0m00:01\u001b[0m\n",
      "\u001b[?25hInstalling collected packages: numpy\n",
      "  Attempting uninstall: numpy\n",
      "    Found existing installation: numpy 1.22.2\n",
      "    Uninstalling numpy-1.22.2:\n",
      "      Successfully uninstalled numpy-1.22.2\n",
      "Successfully installed numpy-1.23.0\n",
      "\u001b[33mWARNING: Running pip as the 'root' user can result in broken permissions and conflicting behaviour with the system package manager. It is recommended to use a virtual environment instead: https://pip.pypa.io/warnings/venv\u001b[0m\u001b[33m\n",
      "\u001b[0m"
     ]
    }
   ],
   "source": [
    "!python -m pip install numpy==1.23\n"
   ]
  },
  {
   "cell_type": "code",
   "execution_count": 2,
   "id": "faa8c4cb-92fb-40cf-a7bd-43f1320a12c6",
   "metadata": {
    "colab": {
     "base_uri": "https://localhost:8080/"
    },
    "id": "faa8c4cb-92fb-40cf-a7bd-43f1320a12c6",
    "outputId": "5411bf3b-c4de-46d7-b82c-3738905680e6"
   },
   "outputs": [
    {
     "name": "stdout",
     "output_type": "stream",
     "text": [
      "Collecting gymnasium\n",
      "  Obtaining dependency information for gymnasium from https://files.pythonhosted.org/packages/de/85/f5039ce2df5f0789ff1240f08a59f3e8c92e4c5f99543b7aad7388532f7c/gymnasium-1.0.0-py3-none-any.whl.metadata\n",
      "  Downloading gymnasium-1.0.0-py3-none-any.whl.metadata (9.5 kB)\n",
      "Requirement already satisfied: numpy>=1.21.0 in /usr/local/lib/python3.10/dist-packages (from gymnasium) (1.23.0)\n",
      "Requirement already satisfied: cloudpickle>=1.2.0 in /usr/local/lib/python3.10/dist-packages (from gymnasium) (2.2.1)\n",
      "Requirement already satisfied: typing-extensions>=4.3.0 in /usr/local/lib/python3.10/dist-packages (from gymnasium) (4.7.1)\n",
      "Collecting farama-notifications>=0.0.1 (from gymnasium)\n",
      "  Obtaining dependency information for farama-notifications>=0.0.1 from https://files.pythonhosted.org/packages/05/2c/ffc08c54c05cdce6fbed2aeebc46348dbe180c6d2c541c7af7ba0aa5f5f8/Farama_Notifications-0.0.4-py3-none-any.whl.metadata\n",
      "  Downloading Farama_Notifications-0.0.4-py3-none-any.whl.metadata (558 bytes)\n",
      "Downloading gymnasium-1.0.0-py3-none-any.whl (958 kB)\n",
      "\u001b[2K   \u001b[90m━━━━━━━━━━━━━━━━━━━━━━━━━━━━━━━━━━━━━━━━\u001b[0m \u001b[32m958.1/958.1 kB\u001b[0m \u001b[31m12.3 MB/s\u001b[0m eta \u001b[36m0:00:00\u001b[0ma \u001b[36m0:00:01\u001b[0m\n",
      "\u001b[?25hDownloading Farama_Notifications-0.0.4-py3-none-any.whl (2.5 kB)\n",
      "Installing collected packages: farama-notifications, gymnasium\n",
      "Successfully installed farama-notifications-0.0.4 gymnasium-1.0.0\n",
      "\u001b[33mWARNING: Running pip as the 'root' user can result in broken permissions and conflicting behaviour with the system package manager. It is recommended to use a virtual environment instead: https://pip.pypa.io/warnings/venv\u001b[0m\u001b[33m\n",
      "\u001b[0mRequirement already satisfied: gymnasium[box2d] in /usr/local/lib/python3.10/dist-packages (1.0.0)\n",
      "Requirement already satisfied: numpy>=1.21.0 in /usr/local/lib/python3.10/dist-packages (from gymnasium[box2d]) (1.23.0)\n",
      "Requirement already satisfied: cloudpickle>=1.2.0 in /usr/local/lib/python3.10/dist-packages (from gymnasium[box2d]) (2.2.1)\n",
      "Requirement already satisfied: typing-extensions>=4.3.0 in /usr/local/lib/python3.10/dist-packages (from gymnasium[box2d]) (4.7.1)\n",
      "Requirement already satisfied: farama-notifications>=0.0.1 in /usr/local/lib/python3.10/dist-packages (from gymnasium[box2d]) (0.0.4)\n",
      "Collecting box2d-py==2.3.5 (from gymnasium[box2d])\n",
      "  Downloading box2d-py-2.3.5.tar.gz (374 kB)\n",
      "\u001b[2K     \u001b[90m━━━━━━━━━━━━━━━━━━━━━━━━━━━━━━━━━━━━━━━\u001b[0m \u001b[32m374.4/374.4 kB\u001b[0m \u001b[31m6.7 MB/s\u001b[0m eta \u001b[36m0:00:00\u001b[0ma \u001b[36m0:00:01\u001b[0m\n",
      "\u001b[?25h  Preparing metadata (setup.py) ... \u001b[?25ldone\n",
      "\u001b[?25hCollecting pygame>=2.1.3 (from gymnasium[box2d])\n",
      "  Obtaining dependency information for pygame>=2.1.3 from https://files.pythonhosted.org/packages/11/b3/de6ed93ae483cf3bac8f950a955e83f7ffe59651fd804d100fff65d66d6c/pygame-2.6.1-cp310-cp310-manylinux_2_17_x86_64.manylinux2014_x86_64.whl.metadata\n",
      "  Downloading pygame-2.6.1-cp310-cp310-manylinux_2_17_x86_64.manylinux2014_x86_64.whl.metadata (12 kB)\n",
      "Collecting swig==4.* (from gymnasium[box2d])\n",
      "  Obtaining dependency information for swig==4.* from https://files.pythonhosted.org/packages/1e/f9/b7608b87476cdfadb101ecbdc83f4aae4a418fac1f67f54d68b3d4af5770/swig-4.2.1.post0-py2.py3-none-manylinux_2_5_x86_64.manylinux1_x86_64.whl.metadata\n",
      "  Downloading swig-4.2.1.post0-py2.py3-none-manylinux_2_5_x86_64.manylinux1_x86_64.whl.metadata (3.5 kB)\n",
      "Downloading swig-4.2.1.post0-py2.py3-none-manylinux_2_5_x86_64.manylinux1_x86_64.whl (1.8 MB)\n",
      "\u001b[2K   \u001b[90m━━━━━━━━━━━━━━━━━━━━━━━━━━━━━━━━━━━━━━━━\u001b[0m \u001b[32m1.8/1.8 MB\u001b[0m \u001b[31m46.6 MB/s\u001b[0m eta \u001b[36m0:00:00\u001b[0m00:01\u001b[0m\n",
      "\u001b[?25hDownloading pygame-2.6.1-cp310-cp310-manylinux_2_17_x86_64.manylinux2014_x86_64.whl (14.0 MB)\n",
      "\u001b[2K   \u001b[90m━━━━━━━━━━━━━━━━━━━━━━━━━━━━━━━━━━━━━━━━\u001b[0m \u001b[32m14.0/14.0 MB\u001b[0m \u001b[31m54.4 MB/s\u001b[0m eta \u001b[36m0:00:00\u001b[0m00:01\u001b[0m00:01\u001b[0m\n",
      "\u001b[?25hBuilding wheels for collected packages: box2d-py\n",
      "  Building wheel for box2d-py (setup.py) ... \u001b[?25ldone\n",
      "\u001b[?25h  Created wheel for box2d-py: filename=box2d_py-2.3.5-cp310-cp310-linux_x86_64.whl size=2349324 sha256=0adff8077223ce0dedc42a1c1b7e8b7dc478651275f6eb22d11c663ad74f3824\n",
      "  Stored in directory: /root/.cache/pip/wheels/db/8f/6a/eaaadf056fba10a98d986f6dce954e6201ba3126926fc5ad9e\n",
      "Successfully built box2d-py\n",
      "Installing collected packages: swig, box2d-py, pygame\n",
      "Successfully installed box2d-py-2.3.5 pygame-2.6.1 swig-4.2.1.post0\n",
      "\u001b[33mWARNING: Running pip as the 'root' user can result in broken permissions and conflicting behaviour with the system package manager. It is recommended to use a virtual environment instead: https://pip.pypa.io/warnings/venv\u001b[0m\u001b[33m\n",
      "\u001b[0mRequirement already satisfied: jupyterlab in /usr/local/lib/python3.10/dist-packages (2.3.2)\n",
      "Requirement already satisfied: notebook>=4.3.1 in /usr/local/lib/python3.10/dist-packages (from jupyterlab) (6.4.10)\n",
      "Requirement already satisfied: tornado!=6.0.0,!=6.0.1,!=6.0.2 in /usr/local/lib/python3.10/dist-packages (from jupyterlab) (6.3.3)\n",
      "Requirement already satisfied: jupyterlab-server<2.0,>=1.1.5 in /usr/local/lib/python3.10/dist-packages (from jupyterlab) (1.2.0)\n",
      "Requirement already satisfied: jinja2>=2.10 in /usr/local/lib/python3.10/dist-packages (from jupyterlab) (3.1.2)\n",
      "Requirement already satisfied: MarkupSafe>=2.0 in /usr/local/lib/python3.10/dist-packages (from jinja2>=2.10->jupyterlab) (2.1.3)\n",
      "Requirement already satisfied: requests in /usr/local/lib/python3.10/dist-packages (from jupyterlab-server<2.0,>=1.1.5->jupyterlab) (2.31.0)\n",
      "Requirement already satisfied: json5 in /usr/local/lib/python3.10/dist-packages (from jupyterlab-server<2.0,>=1.1.5->jupyterlab) (0.9.14)\n",
      "Requirement already satisfied: jsonschema>=3.0.1 in /usr/local/lib/python3.10/dist-packages (from jupyterlab-server<2.0,>=1.1.5->jupyterlab) (4.19.1)\n",
      "Requirement already satisfied: pyzmq>=17 in /usr/local/lib/python3.10/dist-packages (from notebook>=4.3.1->jupyterlab) (25.1.1)\n",
      "Requirement already satisfied: argon2-cffi in /usr/local/lib/python3.10/dist-packages (from notebook>=4.3.1->jupyterlab) (23.1.0)\n",
      "Requirement already satisfied: traitlets>=4.2.1 in /usr/local/lib/python3.10/dist-packages (from notebook>=4.3.1->jupyterlab) (5.9.0)\n",
      "Requirement already satisfied: jupyter-core>=4.6.1 in /usr/local/lib/python3.10/dist-packages (from notebook>=4.3.1->jupyterlab) (5.3.2)\n",
      "Requirement already satisfied: jupyter-client>=5.3.4 in /usr/local/lib/python3.10/dist-packages (from notebook>=4.3.1->jupyterlab) (8.3.1)\n",
      "Requirement already satisfied: ipython-genutils in /usr/local/lib/python3.10/dist-packages (from notebook>=4.3.1->jupyterlab) (0.2.0)\n",
      "Requirement already satisfied: nbformat in /usr/local/lib/python3.10/dist-packages (from notebook>=4.3.1->jupyterlab) (5.9.2)\n",
      "Requirement already satisfied: nbconvert>=5 in /usr/local/lib/python3.10/dist-packages (from notebook>=4.3.1->jupyterlab) (7.9.2)\n",
      "Requirement already satisfied: nest-asyncio>=1.5 in /usr/local/lib/python3.10/dist-packages (from notebook>=4.3.1->jupyterlab) (1.5.8)\n",
      "Requirement already satisfied: ipykernel in /usr/local/lib/python3.10/dist-packages (from notebook>=4.3.1->jupyterlab) (6.25.2)\n",
      "Requirement already satisfied: Send2Trash>=1.8.0 in /usr/local/lib/python3.10/dist-packages (from notebook>=4.3.1->jupyterlab) (1.8.2)\n",
      "Requirement already satisfied: terminado>=0.8.3 in /usr/local/lib/python3.10/dist-packages (from notebook>=4.3.1->jupyterlab) (0.17.1)\n",
      "Requirement already satisfied: prometheus-client in /usr/local/lib/python3.10/dist-packages (from notebook>=4.3.1->jupyterlab) (0.17.1)\n",
      "Requirement already satisfied: attrs>=22.2.0 in /usr/local/lib/python3.10/dist-packages (from jsonschema>=3.0.1->jupyterlab-server<2.0,>=1.1.5->jupyterlab) (23.1.0)\n",
      "Requirement already satisfied: jsonschema-specifications>=2023.03.6 in /usr/local/lib/python3.10/dist-packages (from jsonschema>=3.0.1->jupyterlab-server<2.0,>=1.1.5->jupyterlab) (2023.7.1)\n",
      "Requirement already satisfied: referencing>=0.28.4 in /usr/local/lib/python3.10/dist-packages (from jsonschema>=3.0.1->jupyterlab-server<2.0,>=1.1.5->jupyterlab) (0.30.2)\n",
      "Requirement already satisfied: rpds-py>=0.7.1 in /usr/local/lib/python3.10/dist-packages (from jsonschema>=3.0.1->jupyterlab-server<2.0,>=1.1.5->jupyterlab) (0.10.4)\n",
      "Requirement already satisfied: python-dateutil>=2.8.2 in /usr/local/lib/python3.10/dist-packages (from jupyter-client>=5.3.4->notebook>=4.3.1->jupyterlab) (2.8.2)\n",
      "Requirement already satisfied: platformdirs>=2.5 in /usr/local/lib/python3.10/dist-packages (from jupyter-core>=4.6.1->notebook>=4.3.1->jupyterlab) (3.11.0)\n",
      "Requirement already satisfied: beautifulsoup4 in /usr/local/lib/python3.10/dist-packages (from nbconvert>=5->notebook>=4.3.1->jupyterlab) (4.12.2)\n",
      "Requirement already satisfied: bleach!=5.0.0 in /usr/local/lib/python3.10/dist-packages (from nbconvert>=5->notebook>=4.3.1->jupyterlab) (6.0.0)\n",
      "Requirement already satisfied: defusedxml in /usr/local/lib/python3.10/dist-packages (from nbconvert>=5->notebook>=4.3.1->jupyterlab) (0.7.1)\n",
      "Requirement already satisfied: jupyterlab-pygments in /usr/local/lib/python3.10/dist-packages (from nbconvert>=5->notebook>=4.3.1->jupyterlab) (0.2.2)\n",
      "Requirement already satisfied: mistune<4,>=2.0.3 in /usr/local/lib/python3.10/dist-packages (from nbconvert>=5->notebook>=4.3.1->jupyterlab) (3.0.2)\n",
      "Requirement already satisfied: nbclient>=0.5.0 in /usr/local/lib/python3.10/dist-packages (from nbconvert>=5->notebook>=4.3.1->jupyterlab) (0.8.0)\n",
      "Requirement already satisfied: packaging in /usr/local/lib/python3.10/dist-packages (from nbconvert>=5->notebook>=4.3.1->jupyterlab) (23.1)\n",
      "Requirement already satisfied: pandocfilters>=1.4.1 in /usr/local/lib/python3.10/dist-packages (from nbconvert>=5->notebook>=4.3.1->jupyterlab) (1.5.0)\n",
      "Requirement already satisfied: pygments>=2.4.1 in /usr/local/lib/python3.10/dist-packages (from nbconvert>=5->notebook>=4.3.1->jupyterlab) (2.16.1)\n",
      "Requirement already satisfied: tinycss2 in /usr/local/lib/python3.10/dist-packages (from nbconvert>=5->notebook>=4.3.1->jupyterlab) (1.2.1)\n",
      "Requirement already satisfied: fastjsonschema in /usr/local/lib/python3.10/dist-packages (from nbformat->notebook>=4.3.1->jupyterlab) (2.18.1)\n",
      "Requirement already satisfied: ptyprocess in /usr/local/lib/python3.10/dist-packages (from terminado>=0.8.3->notebook>=4.3.1->jupyterlab) (0.7.0)\n",
      "Requirement already satisfied: argon2-cffi-bindings in /usr/local/lib/python3.10/dist-packages (from argon2-cffi->notebook>=4.3.1->jupyterlab) (21.2.0)\n",
      "Requirement already satisfied: comm>=0.1.1 in /usr/local/lib/python3.10/dist-packages (from ipykernel->notebook>=4.3.1->jupyterlab) (0.1.4)\n",
      "Requirement already satisfied: debugpy>=1.6.5 in /usr/local/lib/python3.10/dist-packages (from ipykernel->notebook>=4.3.1->jupyterlab) (1.8.0)\n",
      "Requirement already satisfied: ipython>=7.23.1 in /usr/local/lib/python3.10/dist-packages (from ipykernel->notebook>=4.3.1->jupyterlab) (8.16.1)\n",
      "Requirement already satisfied: matplotlib-inline>=0.1 in /usr/local/lib/python3.10/dist-packages (from ipykernel->notebook>=4.3.1->jupyterlab) (0.1.6)\n",
      "Requirement already satisfied: psutil in /usr/local/lib/python3.10/dist-packages (from ipykernel->notebook>=4.3.1->jupyterlab) (5.9.4)\n",
      "Requirement already satisfied: charset-normalizer<4,>=2 in /usr/local/lib/python3.10/dist-packages (from requests->jupyterlab-server<2.0,>=1.1.5->jupyterlab) (3.2.0)\n",
      "Requirement already satisfied: idna<4,>=2.5 in /usr/local/lib/python3.10/dist-packages (from requests->jupyterlab-server<2.0,>=1.1.5->jupyterlab) (3.4)\n",
      "Requirement already satisfied: urllib3<3,>=1.21.1 in /usr/local/lib/python3.10/dist-packages (from requests->jupyterlab-server<2.0,>=1.1.5->jupyterlab) (1.26.16)\n",
      "Requirement already satisfied: certifi>=2017.4.17 in /usr/local/lib/python3.10/dist-packages (from requests->jupyterlab-server<2.0,>=1.1.5->jupyterlab) (2023.7.22)\n",
      "Requirement already satisfied: six>=1.9.0 in /usr/local/lib/python3.10/dist-packages (from bleach!=5.0.0->nbconvert>=5->notebook>=4.3.1->jupyterlab) (1.16.0)\n",
      "Requirement already satisfied: webencodings in /usr/local/lib/python3.10/dist-packages (from bleach!=5.0.0->nbconvert>=5->notebook>=4.3.1->jupyterlab) (0.5.1)\n",
      "Requirement already satisfied: backcall in /usr/local/lib/python3.10/dist-packages (from ipython>=7.23.1->ipykernel->notebook>=4.3.1->jupyterlab) (0.2.0)\n",
      "Requirement already satisfied: decorator in /usr/local/lib/python3.10/dist-packages (from ipython>=7.23.1->ipykernel->notebook>=4.3.1->jupyterlab) (5.1.1)\n",
      "Requirement already satisfied: jedi>=0.16 in /usr/local/lib/python3.10/dist-packages (from ipython>=7.23.1->ipykernel->notebook>=4.3.1->jupyterlab) (0.19.1)\n",
      "Requirement already satisfied: pickleshare in /usr/local/lib/python3.10/dist-packages (from ipython>=7.23.1->ipykernel->notebook>=4.3.1->jupyterlab) (0.7.5)\n",
      "Requirement already satisfied: prompt-toolkit!=3.0.37,<3.1.0,>=3.0.30 in /usr/local/lib/python3.10/dist-packages (from ipython>=7.23.1->ipykernel->notebook>=4.3.1->jupyterlab) (3.0.39)\n",
      "Requirement already satisfied: stack-data in /usr/local/lib/python3.10/dist-packages (from ipython>=7.23.1->ipykernel->notebook>=4.3.1->jupyterlab) (0.6.3)\n",
      "Requirement already satisfied: exceptiongroup in /usr/local/lib/python3.10/dist-packages (from ipython>=7.23.1->ipykernel->notebook>=4.3.1->jupyterlab) (1.1.3)\n",
      "Requirement already satisfied: pexpect>4.3 in /usr/local/lib/python3.10/dist-packages (from ipython>=7.23.1->ipykernel->notebook>=4.3.1->jupyterlab) (4.7.0)\n",
      "Requirement already satisfied: cffi>=1.0.1 in /usr/local/lib/python3.10/dist-packages (from argon2-cffi-bindings->argon2-cffi->notebook>=4.3.1->jupyterlab) (1.16.0)\n",
      "Requirement already satisfied: soupsieve>1.2 in /usr/local/lib/python3.10/dist-packages (from beautifulsoup4->nbconvert>=5->notebook>=4.3.1->jupyterlab) (2.5)\n",
      "Requirement already satisfied: pycparser in /usr/local/lib/python3.10/dist-packages (from cffi>=1.0.1->argon2-cffi-bindings->argon2-cffi->notebook>=4.3.1->jupyterlab) (2.21)\n",
      "Requirement already satisfied: parso<0.9.0,>=0.8.3 in /usr/local/lib/python3.10/dist-packages (from jedi>=0.16->ipython>=7.23.1->ipykernel->notebook>=4.3.1->jupyterlab) (0.8.3)\n",
      "Requirement already satisfied: wcwidth in /usr/local/lib/python3.10/dist-packages (from prompt-toolkit!=3.0.37,<3.1.0,>=3.0.30->ipython>=7.23.1->ipykernel->notebook>=4.3.1->jupyterlab) (0.2.8)\n",
      "Requirement already satisfied: executing>=1.2.0 in /usr/local/lib/python3.10/dist-packages (from stack-data->ipython>=7.23.1->ipykernel->notebook>=4.3.1->jupyterlab) (2.0.0)\n",
      "Requirement already satisfied: asttokens>=2.1.0 in /usr/local/lib/python3.10/dist-packages (from stack-data->ipython>=7.23.1->ipykernel->notebook>=4.3.1->jupyterlab) (2.4.0)\n",
      "Requirement already satisfied: pure-eval in /usr/local/lib/python3.10/dist-packages (from stack-data->ipython>=7.23.1->ipykernel->notebook>=4.3.1->jupyterlab) (0.2.2)\n",
      "\u001b[33mWARNING: Running pip as the 'root' user can result in broken permissions and conflicting behaviour with the system package manager. It is recommended to use a virtual environment instead: https://pip.pypa.io/warnings/venv\u001b[0m\u001b[33m\n",
      "\u001b[0mCollecting tqdm\n",
      "  Obtaining dependency information for tqdm from https://files.pythonhosted.org/packages/2b/78/57043611a16c655c8350b4c01b8d6abfb38cc2acb475238b62c2146186d7/tqdm-4.67.0-py3-none-any.whl.metadata\n",
      "  Downloading tqdm-4.67.0-py3-none-any.whl.metadata (57 kB)\n",
      "\u001b[2K     \u001b[90m━━━━━━━━━━━━━━━━━━━━━━━━━━━━━━━━━━━━━━━━\u001b[0m \u001b[32m57.6/57.6 kB\u001b[0m \u001b[31m1.6 MB/s\u001b[0m eta \u001b[36m0:00:00\u001b[0m\n",
      "\u001b[?25hDownloading tqdm-4.67.0-py3-none-any.whl (78 kB)\n",
      "\u001b[2K   \u001b[90m━━━━━━━━━━━━━━━━━━━━━━━━━━━━━━━━━━━━━━━━\u001b[0m \u001b[32m78.6/78.6 kB\u001b[0m \u001b[31m7.1 MB/s\u001b[0m eta \u001b[36m0:00:00\u001b[0m\n",
      "\u001b[?25hInstalling collected packages: tqdm\n",
      "Successfully installed tqdm-4.67.0\n",
      "\u001b[33mWARNING: Running pip as the 'root' user can result in broken permissions and conflicting behaviour with the system package manager. It is recommended to use a virtual environment instead: https://pip.pypa.io/warnings/venv\u001b[0m\u001b[33m\n",
      "\u001b[0mRequirement already satisfied: matplotlib in /usr/local/lib/python3.10/dist-packages (3.8.4)\n",
      "Requirement already satisfied: contourpy>=1.0.1 in /usr/local/lib/python3.10/dist-packages (from matplotlib) (1.2.1)\n",
      "Requirement already satisfied: cycler>=0.10 in /usr/local/lib/python3.10/dist-packages (from matplotlib) (0.12.1)\n",
      "Requirement already satisfied: fonttools>=4.22.0 in /usr/local/lib/python3.10/dist-packages (from matplotlib) (4.51.0)\n",
      "Requirement already satisfied: kiwisolver>=1.3.1 in /usr/local/lib/python3.10/dist-packages (from matplotlib) (1.4.5)\n",
      "Requirement already satisfied: numpy>=1.21 in /usr/local/lib/python3.10/dist-packages (from matplotlib) (1.23.0)\n",
      "Requirement already satisfied: packaging>=20.0 in /usr/local/lib/python3.10/dist-packages (from matplotlib) (23.1)\n",
      "Requirement already satisfied: pillow>=8 in /usr/local/lib/python3.10/dist-packages (from matplotlib) (10.0.1)\n",
      "Requirement already satisfied: pyparsing>=2.3.1 in /usr/local/lib/python3.10/dist-packages (from matplotlib) (3.1.1)\n",
      "Requirement already satisfied: python-dateutil>=2.7 in /usr/local/lib/python3.10/dist-packages (from matplotlib) (2.8.2)\n",
      "Requirement already satisfied: six>=1.5 in /usr/local/lib/python3.10/dist-packages (from python-dateutil>=2.7->matplotlib) (1.16.0)\n",
      "\u001b[33mWARNING: Running pip as the 'root' user can result in broken permissions and conflicting behaviour with the system package manager. It is recommended to use a virtual environment instead: https://pip.pypa.io/warnings/venv\u001b[0m\u001b[33m\n",
      "\u001b[0m"
     ]
    }
   ],
   "source": [
    "!pip install gymnasium\n",
    "!pip install gymnasium[box2d]\n",
    "!pip install jupyterlab\n",
    "!pip install tqdm\n",
    "!pip install matplotlib"
   ]
  },
  {
   "cell_type": "code",
   "execution_count": 3,
   "id": "8b329e1f-e757-4b82-905e-9ee07655aa38",
   "metadata": {
    "id": "8b329e1f-e757-4b82-905e-9ee07655aa38"
   },
   "outputs": [],
   "source": [
    "import gymnasium as gym\n",
    "import numpy as np\n",
    "from itertools import count\n",
    "from tqdm import tqdm\n",
    "import time\n",
    "import matplotlib.pyplot as plt\n"
   ]
  },
  {
   "cell_type": "code",
   "execution_count": 4,
   "id": "14dd2dd5-64c0-4c99-b11d-0cc358189af1",
   "metadata": {
    "id": "14dd2dd5-64c0-4c99-b11d-0cc358189af1"
   },
   "outputs": [],
   "source": [
    "g_bins = 10\n",
    "Q_track = 0\n",
    "Q = 0"
   ]
  },
  {
   "cell_type": "code",
   "execution_count": 5,
   "id": "2f2058fd-529d-4a8e-8355-e76b621db755",
   "metadata": {
    "id": "2f2058fd-529d-4a8e-8355-e76b621db755"
   },
   "outputs": [],
   "source": [
    "def create_bins(n_bins=g_bins, n_dim=4):\n",
    "\n",
    "    bins = [\n",
    "        np.linspace(-4.8, 4.8, n_bins),\n",
    "        np.linspace(-4, 4, n_bins),\n",
    "        np.linspace(-0.418, 0.418, n_bins),\n",
    "        np.linspace(-4, 4, n_bins)\n",
    "    ]\n",
    "\n",
    "    return bins"
   ]
  },
  {
   "cell_type": "code",
   "execution_count": 6,
   "id": "c564bb50-5af3-457f-b419-a1c6e4c31422",
   "metadata": {
    "id": "c564bb50-5af3-457f-b419-a1c6e4c31422"
   },
   "outputs": [],
   "source": [
    "def discretize_state(observation, bins):\n",
    "\n",
    "    binned_state = []\n",
    "\n",
    "    for i in range(len(observation)):\n",
    "        d = np.digitize(observation[i], bins[i])\n",
    "        binned_state.append( d - 1)\n",
    "\n",
    "    return tuple(binned_state)"
   ]
  },
  {
   "cell_type": "code",
   "execution_count": 7,
   "id": "98943888-b5db-48d8-8a54-0c1a2680d9db",
   "metadata": {
    "id": "98943888-b5db-48d8-8a54-0c1a2680d9db"
   },
   "outputs": [],
   "source": [
    "def decay_schedule(\n",
    "    init_value, min_value, decay_ratio,\n",
    "    max_steps, log_start = -2, log_base=10):\n",
    "    decay_steps = int(max_steps*decay_ratio)\n",
    "    rem_steps = max_steps - decay_steps\n",
    "    values = np.logspace(\n",
    "      log_start, 0, decay_steps,\n",
    "      base = log_base, endpoint = True)[::-1]\n",
    "    values = (values -values.min())/(values.max() - values.min())\n",
    "    values = (init_value - min_value)*values +min_value\n",
    "    values = np.pad(values, (0, rem_steps), 'edge')\n",
    "\n",
    "    return values"
   ]
  },
  {
   "cell_type": "code",
   "execution_count": 8,
   "id": "ce5901ea-d8c5-43ec-91b6-32b4ac9af8a2",
   "metadata": {
    "id": "ce5901ea-d8c5-43ec-91b6-32b4ac9af8a2"
   },
   "outputs": [],
   "source": [
    "def generate_trajectory(\n",
    "    select_action, Q, epsilon,\n",
    "    env, max_steps=200):\n",
    "    done, trajectory = False, []\n",
    "    bins = create_bins(g_bins)\n",
    "\n",
    "    observation,_ = env.reset()\n",
    "    state = discretize_state(observation, bins)\n",
    "\n",
    "    for t in count():\n",
    "        action = select_action(state, Q, epsilon)\n",
    "        observation, reward, done, _, _ = env.step(action)\n",
    "        next_state = discretize_state(observation, bins)\n",
    "        if not done:\n",
    "            if t >= max_steps-1:\n",
    "                break\n",
    "            experience = (state, action,\n",
    "                    reward, next_state, done)\n",
    "            trajectory.append(experience)\n",
    "        else:\n",
    "            experience = (state, action,\n",
    "                    -100, next_state, done)\n",
    "            trajectory.append(experience)\n",
    "            #time.sleep(2)\n",
    "            break\n",
    "        state = next_state\n",
    "\n",
    "    return np.array(trajectory, dtype=object)"
   ]
  },
  {
   "cell_type": "code",
   "execution_count": 9,
   "id": "06e0e0bf-aab1-4e62-ad12-29bccba1708b",
   "metadata": {
    "id": "06e0e0bf-aab1-4e62-ad12-29bccba1708b"
   },
   "outputs": [],
   "source": [
    "def mc_control (env,n_bins=g_bins, gamma = 1.0,\n",
    "                init_alpha = 0.5,min_alpha = 0.01, alpha_decay_ratio = 0.5,\n",
    "                init_epsilon = 1.0, min_epsilon = 0.1, epsilon_decay_ratio = 0.9,\n",
    "                n_episodes = 3000, max_steps = 200, first_visit = True, init_Q=None):\n",
    "\n",
    "    nA = env.action_space.n\n",
    "    discounts = np.logspace(0, max_steps,\n",
    "                            num = max_steps, base = gamma,\n",
    "                            endpoint = False)\n",
    "    alphas = decay_schedule(init_alpha, min_alpha,\n",
    "                            0.9999, n_episodes)\n",
    "    epsilons = decay_schedule(init_epsilon, min_epsilon,\n",
    "                            0.99, n_episodes)\n",
    "    pi_track = []\n",
    "    global Q_track\n",
    "    global Q\n",
    "\n",
    "\n",
    "    if init_Q is None:\n",
    "        Q = np.zeros([n_bins]*env.observation_space.shape[0] + [env.action_space.n],dtype =np.float64)\n",
    "    else:\n",
    "        Q = init_Q\n",
    "\n",
    "    n_elements = Q.size\n",
    "    n_nonzero_elements = 0\n",
    "\n",
    "    Q_track = np.zeros([n_episodes] + [n_bins]*env.observation_space.shape[0] + [env.action_space.n],dtype =np.float64)\n",
    "    select_action = lambda state, Q, epsilon: np.argmax(Q[tuple(state)]) if np.random.random() > epsilon else np.random.randint(len(Q[tuple(state)]))\n",
    "\n",
    "    progress_bar = tqdm(range(n_episodes), leave=False)\n",
    "    steps_balanced_total = 1\n",
    "    mean_steps_balanced = 0\n",
    "    for e in progress_bar:\n",
    "        trajectory = generate_trajectory(select_action, Q, epsilons[e],\n",
    "                                    env, max_steps)\n",
    "\n",
    "        steps_balanced_total = steps_balanced_total + len(trajectory)\n",
    "        mean_steps_balanced = 0\n",
    "\n",
    "        visited = np.zeros([n_bins]*env.observation_space.shape[0] + [env.action_space.n],dtype =np.float64)\n",
    "        for t, (state, action, reward, _, _) in enumerate(trajectory):\n",
    "            #if visited[tuple(state)][action] and first_visit:\n",
    "            #    continue\n",
    "            visited[tuple(state)][action] = True\n",
    "            n_steps = len(trajectory[t:])\n",
    "            G = np.sum(discounts[:n_steps]*trajectory[t:, 2])\n",
    "            Q[tuple(state)][action] = Q[tuple(state)][action]+alphas[e]*(G - Q[tuple(state)][action])\n",
    "        Q_track[e] = Q\n",
    "        n_nonzero_elements = np.count_nonzero(Q)\n",
    "        pi_track.append(np.argmax(Q, axis=env.observation_space.shape[0]))\n",
    "        if e != 0:\n",
    "            mean_steps_balanced = steps_balanced_total/e\n",
    "        #progress_bar.set_postfix(episode=e, Epsilon=epsilons[e], Steps=f\"{len(trajectory)}\" ,MeanStepsBalanced=f\"{mean_steps_balanced:.2f}\", NonZeroValues=\"{0}/{1}\".format(n_nonzero_elements,n_elements))\n",
    "        progress_bar.set_postfix(episode=e, Epsilon=epsilons[e], StepsBalanced=f\"{len(trajectory)}\" ,MeanStepsBalanced=f\"{mean_steps_balanced:.2f}\")\n",
    "\n",
    "    print(\"mean_steps_balanced={0},steps_balanced_total={1}\".format(mean_steps_balanced,steps_balanced_total))\n",
    "    V = np.max(Q, axis=env.observation_space.shape[0])\n",
    "    pi = lambda s:{s:a for s, a in enumerate(np.argmax(Q, axis=env.observation_space.shape[0]))}[s]\n",
    "\n",
    "    return Q, V, pi"
   ]
  },
  {
   "cell_type": "code",
   "execution_count": 10,
   "id": "408bd6d9-f7a8-4136-b16c-9dc16f549ff3",
   "metadata": {
    "id": "408bd6d9-f7a8-4136-b16c-9dc16f549ff3"
   },
   "outputs": [],
   "source": [
    "env = gym.make(\"CartPole-v1\", render_mode=\"human\")\n",
    "observation, info = env.reset(seed=42)"
   ]
  },
  {
   "cell_type": "code",
   "execution_count": 11,
   "id": "8ac5232c-dade-44c4-8a67-0793c6f5580d",
   "metadata": {
    "id": "8ac5232c-dade-44c4-8a67-0793c6f5580d"
   },
   "outputs": [],
   "source": [
    "\n",
    "observation, info = env.reset(seed=42)"
   ]
  },
  {
   "cell_type": "code",
   "execution_count": 12,
   "id": "85228217-849a-4bd5-8e60-39ec34fe78f7",
   "metadata": {
    "colab": {
     "base_uri": "https://localhost:8080/"
    },
    "id": "85228217-849a-4bd5-8e60-39ec34fe78f7",
    "outputId": "9099e522-5691-4ba0-8fda-1f38f7d2643d"
   },
   "outputs": [
    {
     "name": "stdout",
     "output_type": "stream",
     "text": [
      "False\n"
     ]
    }
   ],
   "source": [
    "observation, reward, done, _, _ = env.step(0)\n",
    "print(done)"
   ]
  },
  {
   "cell_type": "code",
   "execution_count": 13,
   "id": "2a921e98-2abf-4d64-913d-75c66e9131d4",
   "metadata": {
    "colab": {
     "base_uri": "https://localhost:8080/"
    },
    "id": "2a921e98-2abf-4d64-913d-75c66e9131d4",
    "outputId": "a8535944-9acf-496d-d5be-bb1a8563268d"
   },
   "outputs": [
    {
     "data": {
      "text/plain": [
       "2"
      ]
     },
     "execution_count": 13,
     "metadata": {},
     "output_type": "execute_result"
    }
   ],
   "source": [
    "env.action_space.n"
   ]
  },
  {
   "cell_type": "code",
   "execution_count": 14,
   "id": "81617d8a-4fd8-4ca8-80c0-c213ded3372d",
   "metadata": {
    "colab": {
     "base_uri": "https://localhost:8080/"
    },
    "id": "81617d8a-4fd8-4ca8-80c0-c213ded3372d",
    "outputId": "620bc49b-69dd-43db-e89b-cee2e7b8e339"
   },
   "outputs": [
    {
     "name": "stdout",
     "output_type": "stream",
     "text": [
      "SANJAY T      212222110039\n"
     ]
    },
    {
     "name": "stderr",
     "output_type": "stream",
     "text": [
      "                                                                                                                         "
     ]
    },
    {
     "name": "stdout",
     "output_type": "stream",
     "text": [
      "mean_steps_balanced=90.85427135678393,steps_balanced_total=18080\n"
     ]
    },
    {
     "name": "stderr",
     "output_type": "stream",
     "text": [
      "\r"
     ]
    }
   ],
   "source": [
    "# To run the MC control without using the previous Q values\n",
    "print(\"SANJAY T      212222110039\")\n",
    "optimal_Q, optimal_V, optimal_pi = mc_control (env,n_episodes=200)"
   ]
  },
  {
   "cell_type": "code",
   "execution_count": 15,
   "id": "ac09a817-9fcb-40a1-8305-2cc59097b9d9",
   "metadata": {
    "id": "ac09a817-9fcb-40a1-8305-2cc59097b9d9"
   },
   "outputs": [],
   "source": [
    "#To save the action value function\n",
    "np.save(\"state_action_values.npy\", Q)"
   ]
  },
  {
   "cell_type": "code",
   "execution_count": 16,
   "id": "47366ece-37b2-4d9f-9192-7bc48d2bb514",
   "metadata": {
    "id": "47366ece-37b2-4d9f-9192-7bc48d2bb514"
   },
   "outputs": [],
   "source": [
    "#To load the action value function\n",
    "Q = np.load(\"state_action_values.npy\")"
   ]
  },
  {
   "cell_type": "code",
   "execution_count": 17,
   "id": "28702f12-63c8-452d-9de6-c2be14a90026",
   "metadata": {
    "colab": {
     "base_uri": "https://localhost:8080/"
    },
    "id": "28702f12-63c8-452d-9de6-c2be14a90026",
    "outputId": "0e79993e-5978-46ad-a4d8-6186518ce67a"
   },
   "outputs": [
    {
     "name": "stdout",
     "output_type": "stream",
     "text": [
      "SANJAY T      212222110039\n"
     ]
    },
    {
     "name": "stderr",
     "output_type": "stream",
     "text": [
      "                                                                                                                          "
     ]
    },
    {
     "name": "stdout",
     "output_type": "stream",
     "text": [
      "mean_steps_balanced=132.8894472361809,steps_balanced_total=26445\n"
     ]
    },
    {
     "name": "stderr",
     "output_type": "stream",
     "text": [
      "\r"
     ]
    }
   ],
   "source": [
    "# To run the MC control using the previous Q values and default\n",
    "print(\"SANJAY T      212222110039\")\n",
    "optimal_Q, optimal_V, optimal_pi = mc_control (env,n_episodes=200,\n",
    "                                    init_alpha = 0.5,min_alpha = 0.01, alpha_decay_ratio = 0.5,\n",
    "                                    init_epsilon = 1.0, min_epsilon = 0.1, epsilon_decay_ratio = 0.9,\n",
    "                                    max_steps=500, init_Q=Q)"
   ]
  },
  {
   "cell_type": "code",
   "execution_count": null,
   "id": "5868c123-fcc7-4e60-83da-b2973d2d148a",
   "metadata": {
    "colab": {
     "background_save": true
    },
    "id": "5868c123-fcc7-4e60-83da-b2973d2d148a"
   },
   "outputs": [
    {
     "name": "stdout",
     "output_type": "stream",
     "text": [
      "SANJAY T      212222110039\n"
     ]
    },
    {
     "name": "stderr",
     "output_type": "stream",
     "text": [
      " 71%|███████   | 353/500 [45:23<19:15,  7.86s/it, Epsilon=0.0606, MeanStepsBalanced=383.87, StepsBalanced=499, episode=352]  "
     ]
    }
   ],
   "source": [
    "# To run the MC control using the previous Q values and modified parameters\n",
    "print(\"SANJAY T      212222110039\")\n",
    "optimal_Q, optimal_V, optimal_pi = mc_control (env,n_episodes=500,\n",
    "                                    init_alpha = 0.01,min_alpha = 0.005, alpha_decay_ratio = 0.5,\n",
    "                                    init_epsilon = 0.08 , min_epsilon = 0.06, epsilon_decay_ratio = 0.9,\n",
    "                                    max_steps=500, init_Q=Q)"
   ]
  },
  {
   "cell_type": "code",
   "execution_count": null,
   "id": "594477d2",
   "metadata": {},
   "outputs": [],
   "source": []
  },
  {
   "cell_type": "code",
   "execution_count": null,
   "id": "727f9541",
   "metadata": {},
   "outputs": [],
   "source": []
  },
  {
   "cell_type": "code",
   "execution_count": null,
   "id": "5db2ea76",
   "metadata": {},
   "outputs": [],
   "source": []
  },
  {
   "cell_type": "code",
   "execution_count": null,
   "id": "eb5ddc04",
   "metadata": {},
   "outputs": [],
   "source": []
  },
  {
   "cell_type": "code",
   "execution_count": null,
   "id": "ef79e1d6",
   "metadata": {},
   "outputs": [],
   "source": [
    "  "
   ]
  }
 ],
 "metadata": {
  "colab": {
   "provenance": []
  },
  "kernelspec": {
   "display_name": "Python 3 (ipykernel)",
   "language": "python",
   "name": "python3"
  },
  "language_info": {
   "codemirror_mode": {
    "name": "ipython",
    "version": 3
   },
   "file_extension": ".py",
   "mimetype": "text/x-python",
   "name": "python",
   "nbconvert_exporter": "python",
   "pygments_lexer": "ipython3",
   "version": "3.10.12"
  }
 },
 "nbformat": 4,
 "nbformat_minor": 5
}
